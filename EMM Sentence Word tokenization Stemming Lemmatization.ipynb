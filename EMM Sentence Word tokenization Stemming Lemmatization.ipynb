{
 "cells": [
  {
   "cell_type": "code",
   "execution_count": 3,
   "metadata": {},
   "outputs": [],
   "source": [
    "from nltk.tokenize import sent_tokenize"
   ]
  },
  {
   "cell_type": "code",
   "execution_count": 4,
   "metadata": {},
   "outputs": [],
   "source": [
    "text=\"\"\n",
    "with open(\"D:/RAMANASOFT/Alice_small.txt\") as fh:\n",
    "    text = fh.readlines()\n",
    "    data= fh.read().replace('\\n', '')\n"
   ]
  },
  {
   "cell_type": "code",
   "execution_count": 5,
   "metadata": {},
   "outputs": [],
   "source": [
    "text1=[tx.replace('\\n','') for tx in text]"
   ]
  },
  {
   "cell_type": "code",
   "execution_count": 6,
   "metadata": {},
   "outputs": [
    {
     "data": {
      "text/plain": [
       "[\"Alice was beginning to get very tired of sitting by her sister on the',\",\n",
       " \" 'bank, and of having nothing to do. Once or twice she had peeped into the',\",\n",
       " \" 'book her sister was reading, but it had no pictures or conversations in',\",\n",
       " ' \\'it, \"and what is the use of a book,\" thought Alice, \"without pictures or\\',',\n",
       " ' \\'conversations?\"\\',',\n",
       " \" 'So she was considering in her own mind (as well as she could, for the',\",\n",
       " \" 'day made her feel very sleepy and stupid), whether the pleasure of',\",\n",
       " \" 'making a daisy-chain would be worth the trouble of getting up and',\",\n",
       " \" 'picking the daisies, when suddenly a White Rabbit with pink eyes ran',\",\n",
       " \" 'close by her.',\",\n",
       " \" 'There was nothing so very remarkable in that, nor did Alice think it so',\",\n",
       " ' \\'very much out of the way to hear the Rabbit say to itself, \"Oh dear! Oh\\',',\n",
       " ' \\'dear! I shall be too late!\" But when the Rabbit actually took a watch\\',',\n",
       " \" 'out of its waistcoat-pocket and looked at it and then hurried on, Alice',\",\n",
       " \" 'started to her feet, for it flashed across her mind that she had never',\",\n",
       " \" 'before seen a rabbit with either a waistcoat-pocket, or a watch to take',\",\n",
       " \" 'out of it, and, burning with curiosity, she ran across the field after',\",\n",
       " \" 'it and was just in time to see it pop down a large rabbit-hole, under',\",\n",
       " \" 'the hedge. In another moment, down went Alice after it!',\",\n",
       " \" 'The rabbit-hole went straight on like a tunnel for some way and then',\",\n",
       " \" 'dipped suddenly down, so suddenly that Alice had not a moment to think',\",\n",
       " \" 'about stopping herself before she found herself falling down what seemed',\",\n",
       " \" 'to be a very deep well.',\",\n",
       " \" '',\",\n",
       " \" 'Either the well was very deep, or she fell very slowly, for she had',\",\n",
       " \" 'plenty of time, as she went down, to look about her. First, she tried to',\",\n",
       " \" 'make out what she was coming to, but it was too dark to see anything;',\",\n",
       " \" 'then she looked at the sides of the well and noticed that they were',\",\n",
       " \" 'filled with cupboards and book-shelves; here and there she saw maps and',\",\n",
       " \" 'pictures hung upon pegs. She took down a jar from one of the shelves as',\",\n",
       " ' \\'she passed. It was labeled \"ORANGE MARMALADE,\" but, to her great\\',',\n",
       " \" 'disappointment, it was empty; she did not like to drop the jar, so',\",\n",
       " \" 'managed to put it into one of the cupboards as she fell past it.',\",\n",
       " \" '',\",\n",
       " \" 'Down, down, down! Would the fall never come to an end? There was nothing',\",\n",
       " ' \\'else to do, so Alice soon began talking to herself. \"Dinah\\\\\\'ll miss me\\',',\n",
       " ' \\'very much to-night, I should think!\" (Dinah was the cat.) \"I hope\\',',\n",
       " ' \"they\\'ll remember her saucer of milk at tea-time. Dinah, my dear, I wish\",',\n",
       " ' \\'you were down here with me!\" Alice felt that she was dozing off, when\\',',\n",
       " \" 'suddenly, thump! thump! down she came upon a heap of sticks and dry',\",\n",
       " \" 'leaves, and the fall was over.',\",\n",
       " \" '',\",\n",
       " \" 'Alice was not a bit hurt, and she jumped up in a moment. She looked up,',\",\n",
       " \" 'but it was all dark overhead; before her was another long passage and',\",\n",
       " \" 'the White Rabbit was still in sight, hurrying down it. There was not a',\",\n",
       " \" 'moment to be lost. Away went Alice like the wind and was just in time to',\",\n",
       " ' \\'hear it say, as it turned a corner, \"Oh, my ears and whiskers, how late\\',',\n",
       " ' \\'it\\\\\\'s getting!\" She was close behind it when she turned the corner, but\\',',\n",
       " \" 'the Rabbit was no longer to be seen.',\",\n",
       " \" '',\",\n",
       " \" 'She found herself in a long, low hall, which was lit up by a row of',\",\n",
       " ' \"lamps hanging from the roof. There were doors all \\'round the hall, but\",',\n",
       " \" 'they were all locked; and when Alice had been all the way down one side',\",\n",
       " \" 'and up the other, trying every door, she walked sadly down the middle,',\",\n",
       " \" 'wondering how she was ever to get out again.',\",\n",
       " \" '',\",\n",
       " \" 'Suddenly she came upon a little table, all made of solid glass. There',\",\n",
       " ' \"was nothing on it but a tiny golden key, and Alice\\'s first idea was that\",',\n",
       " \" 'this might belong to one of the doors of the hall; but, alas! either the',\",\n",
       " \" 'locks were too large, or the key was too small, but, at any rate, it',\",\n",
       " ' \"would not open any of them. However, on the second time \\'round, she came\",',\n",
       " \" 'upon a low curtain she had not noticed before, and behind it was a',\",\n",
       " \" 'little door about fifteen inches high. She tried the little golden key',\",\n",
       " \" 'in the lock, and to her great delight, it fitted!',\",\n",
       " \" '\"]"
      ]
     },
     "execution_count": 6,
     "metadata": {},
     "output_type": "execute_result"
    }
   ],
   "source": [
    "text1"
   ]
  },
  {
   "cell_type": "code",
   "execution_count": 7,
   "metadata": {},
   "outputs": [],
   "source": [
    "text_all=\"\""
   ]
  },
  {
   "cell_type": "code",
   "execution_count": 8,
   "metadata": {},
   "outputs": [],
   "source": [
    "text_all1=text_all.join(text1)"
   ]
  },
  {
   "cell_type": "code",
   "execution_count": 9,
   "metadata": {},
   "outputs": [
    {
     "data": {
      "text/plain": [
       "'Alice was beginning to get very tired of sitting by her sister on the\\', \\'bank, and of having nothing to do. Once or twice she had peeped into the\\', \\'book her sister was reading, but it had no pictures or conversations in\\', \\'it, \"and what is the use of a book,\" thought Alice, \"without pictures or\\', \\'conversations?\"\\', \\'So she was considering in her own mind (as well as she could, for the\\', \\'day made her feel very sleepy and stupid), whether the pleasure of\\', \\'making a daisy-chain would be worth the trouble of getting up and\\', \\'picking the daisies, when suddenly a White Rabbit with pink eyes ran\\', \\'close by her.\\', \\'There was nothing so very remarkable in that, nor did Alice think it so\\', \\'very much out of the way to hear the Rabbit say to itself, \"Oh dear! Oh\\', \\'dear! I shall be too late!\" But when the Rabbit actually took a watch\\', \\'out of its waistcoat-pocket and looked at it and then hurried on, Alice\\', \\'started to her feet, for it flashed across her mind that she had never\\', \\'before seen a rabbit with either a waistcoat-pocket, or a watch to take\\', \\'out of it, and, burning with curiosity, she ran across the field after\\', \\'it and was just in time to see it pop down a large rabbit-hole, under\\', \\'the hedge. In another moment, down went Alice after it!\\', \\'The rabbit-hole went straight on like a tunnel for some way and then\\', \\'dipped suddenly down, so suddenly that Alice had not a moment to think\\', \\'about stopping herself before she found herself falling down what seemed\\', \\'to be a very deep well.\\', \\'\\', \\'Either the well was very deep, or she fell very slowly, for she had\\', \\'plenty of time, as she went down, to look about her. First, she tried to\\', \\'make out what she was coming to, but it was too dark to see anything;\\', \\'then she looked at the sides of the well and noticed that they were\\', \\'filled with cupboards and book-shelves; here and there she saw maps and\\', \\'pictures hung upon pegs. She took down a jar from one of the shelves as\\', \\'she passed. It was labeled \"ORANGE MARMALADE,\" but, to her great\\', \\'disappointment, it was empty; she did not like to drop the jar, so\\', \\'managed to put it into one of the cupboards as she fell past it.\\', \\'\\', \\'Down, down, down! Would the fall never come to an end? There was nothing\\', \\'else to do, so Alice soon began talking to herself. \"Dinah\\\\\\'ll miss me\\', \\'very much to-night, I should think!\" (Dinah was the cat.) \"I hope\\', \"they\\'ll remember her saucer of milk at tea-time. Dinah, my dear, I wish\", \\'you were down here with me!\" Alice felt that she was dozing off, when\\', \\'suddenly, thump! thump! down she came upon a heap of sticks and dry\\', \\'leaves, and the fall was over.\\', \\'\\', \\'Alice was not a bit hurt, and she jumped up in a moment. She looked up,\\', \\'but it was all dark overhead; before her was another long passage and\\', \\'the White Rabbit was still in sight, hurrying down it. There was not a\\', \\'moment to be lost. Away went Alice like the wind and was just in time to\\', \\'hear it say, as it turned a corner, \"Oh, my ears and whiskers, how late\\', \\'it\\\\\\'s getting!\" She was close behind it when she turned the corner, but\\', \\'the Rabbit was no longer to be seen.\\', \\'\\', \\'She found herself in a long, low hall, which was lit up by a row of\\', \"lamps hanging from the roof. There were doors all \\'round the hall, but\", \\'they were all locked; and when Alice had been all the way down one side\\', \\'and up the other, trying every door, she walked sadly down the middle,\\', \\'wondering how she was ever to get out again.\\', \\'\\', \\'Suddenly she came upon a little table, all made of solid glass. There\\', \"was nothing on it but a tiny golden key, and Alice\\'s first idea was that\", \\'this might belong to one of the doors of the hall; but, alas! either the\\', \\'locks were too large, or the key was too small, but, at any rate, it\\', \"would not open any of them. However, on the second time \\'round, she came\", \\'upon a low curtain she had not noticed before, and behind it was a\\', \\'little door about fifteen inches high. She tried the little golden key\\', \\'in the lock, and to her great delight, it fitted!\\', \\''"
      ]
     },
     "execution_count": 9,
     "metadata": {},
     "output_type": "execute_result"
    }
   ],
   "source": [
    "text_all1"
   ]
  },
  {
   "cell_type": "code",
   "execution_count": 10,
   "metadata": {},
   "outputs": [],
   "source": [
    "from nltk.tokenize import sent_tokenize"
   ]
  },
  {
   "cell_type": "code",
   "execution_count": 12,
   "metadata": {},
   "outputs": [
    {
     "name": "stderr",
     "output_type": "stream",
     "text": [
      "[nltk_data] Downloading package punkt_tab to\n",
      "[nltk_data]     C:\\Users\\emman\\AppData\\Roaming\\nltk_data...\n",
      "[nltk_data]   Unzipping tokenizers\\punkt_tab.zip.\n"
     ]
    },
    {
     "data": {
      "text/plain": [
       "True"
      ]
     },
     "execution_count": 12,
     "metadata": {},
     "output_type": "execute_result"
    }
   ],
   "source": [
    "import nltk\n",
    "nltk.download('punkt_tab')"
   ]
  },
  {
   "cell_type": "code",
   "execution_count": 13,
   "metadata": {},
   "outputs": [],
   "source": [
    "sent_tokenize_list = sent_tokenize(text_all1)"
   ]
  },
  {
   "cell_type": "code",
   "execution_count": 14,
   "metadata": {},
   "outputs": [
    {
     "data": {
      "text/plain": [
       "[\"Alice was beginning to get very tired of sitting by her sister on the', 'bank, and of having nothing to do.\",\n",
       " 'Once or twice she had peeped into the\\', \\'book her sister was reading, but it had no pictures or conversations in\\', \\'it, \"and what is the use of a book,\" thought Alice, \"without pictures or\\', \\'conversations?',\n",
       " '\"\\', \\'So she was considering in her own mind (as well as she could, for the\\', \\'day made her feel very sleepy and stupid), whether the pleasure of\\', \\'making a daisy-chain would be worth the trouble of getting up and\\', \\'picking the daisies, when suddenly a White Rabbit with pink eyes ran\\', \\'close by her.',\n",
       " '\\', \\'There was nothing so very remarkable in that, nor did Alice think it so\\', \\'very much out of the way to hear the Rabbit say to itself, \"Oh dear!',\n",
       " \"Oh', 'dear!\",\n",
       " 'I shall be too late!\"',\n",
       " \"But when the Rabbit actually took a watch', 'out of its waistcoat-pocket and looked at it and then hurried on, Alice', 'started to her feet, for it flashed across her mind that she had never', 'before seen a rabbit with either a waistcoat-pocket, or a watch to take', 'out of it, and, burning with curiosity, she ran across the field after', 'it and was just in time to see it pop down a large rabbit-hole, under', 'the hedge.\",\n",
       " 'In another moment, down went Alice after it!',\n",
       " \"', 'The rabbit-hole went straight on like a tunnel for some way and then', 'dipped suddenly down, so suddenly that Alice had not a moment to think', 'about stopping herself before she found herself falling down what seemed', 'to be a very deep well.\",\n",
       " \"', '', 'Either the well was very deep, or she fell very slowly, for she had', 'plenty of time, as she went down, to look about her.\",\n",
       " \"First, she tried to', 'make out what she was coming to, but it was too dark to see anything;', 'then she looked at the sides of the well and noticed that they were', 'filled with cupboards and book-shelves; here and there she saw maps and', 'pictures hung upon pegs.\",\n",
       " \"She took down a jar from one of the shelves as', 'she passed.\",\n",
       " 'It was labeled \"ORANGE MARMALADE,\" but, to her great\\', \\'disappointment, it was empty; she did not like to drop the jar, so\\', \\'managed to put it into one of the cupboards as she fell past it.',\n",
       " \"', '', 'Down, down, down!\",\n",
       " 'Would the fall never come to an end?',\n",
       " \"There was nothing', 'else to do, so Alice soon began talking to herself.\",\n",
       " '\"Dinah\\\\\\'ll miss me\\', \\'very much to-night, I should think!\"',\n",
       " '(Dinah was the cat.)',\n",
       " '\"I hope\\', \"they\\'ll remember her saucer of milk at tea-time.',\n",
       " 'Dinah, my dear, I wish\", \\'you were down here with me!\"',\n",
       " \"Alice felt that she was dozing off, when', 'suddenly, thump!\",\n",
       " 'thump!',\n",
       " \"down she came upon a heap of sticks and dry', 'leaves, and the fall was over.\",\n",
       " \"', '', 'Alice was not a bit hurt, and she jumped up in a moment.\",\n",
       " \"She looked up,', 'but it was all dark overhead; before her was another long passage and', 'the White Rabbit was still in sight, hurrying down it.\",\n",
       " \"There was not a', 'moment to be lost.\",\n",
       " 'Away went Alice like the wind and was just in time to\\', \\'hear it say, as it turned a corner, \"Oh, my ears and whiskers, how late\\', \\'it\\\\\\'s getting!\"',\n",
       " \"She was close behind it when she turned the corner, but', 'the Rabbit was no longer to be seen.\",\n",
       " '\\', \\'\\', \\'She found herself in a long, low hall, which was lit up by a row of\\', \"lamps hanging from the roof.',\n",
       " 'There were doors all \\'round the hall, but\", \\'they were all locked; and when Alice had been all the way down one side\\', \\'and up the other, trying every door, she walked sadly down the middle,\\', \\'wondering how she was ever to get out again.',\n",
       " \"', '', 'Suddenly she came upon a little table, all made of solid glass.\",\n",
       " 'There\\', \"was nothing on it but a tiny golden key, and Alice\\'s first idea was that\", \\'this might belong to one of the doors of the hall; but, alas!',\n",
       " 'either the\\', \\'locks were too large, or the key was too small, but, at any rate, it\\', \"would not open any of them.',\n",
       " 'However, on the second time \\'round, she came\", \\'upon a low curtain she had not noticed before, and behind it was a\\', \\'little door about fifteen inches high.',\n",
       " \"She tried the little golden key', 'in the lock, and to her great delight, it fitted!\",\n",
       " \"', '\"]"
      ]
     },
     "execution_count": 14,
     "metadata": {},
     "output_type": "execute_result"
    }
   ],
   "source": [
    "sent_tokenize_list"
   ]
  },
  {
   "cell_type": "code",
   "execution_count": 15,
   "metadata": {},
   "outputs": [],
   "source": [
    "from nltk.tokenize import word_tokenize"
   ]
  },
  {
   "cell_type": "code",
   "execution_count": 16,
   "metadata": {},
   "outputs": [
    {
     "data": {
      "text/plain": [
       "['Alice',\n",
       " 'was',\n",
       " 'beginning',\n",
       " 'to',\n",
       " 'get',\n",
       " 'very',\n",
       " 'tired',\n",
       " 'of',\n",
       " 'sitting',\n",
       " 'by',\n",
       " 'her',\n",
       " 'sister',\n",
       " 'on',\n",
       " 'the',\n",
       " \"'\",\n",
       " ',',\n",
       " \"'bank\",\n",
       " ',',\n",
       " 'and',\n",
       " 'of',\n",
       " 'having',\n",
       " 'nothing',\n",
       " 'to',\n",
       " 'do',\n",
       " '.']"
      ]
     },
     "execution_count": 16,
     "metadata": {},
     "output_type": "execute_result"
    }
   ],
   "source": [
    "word_tokenize(sent_tokenize_list[0])"
   ]
  },
  {
   "cell_type": "code",
   "execution_count": 17,
   "metadata": {},
   "outputs": [],
   "source": [
    "from nltk.stem.porter import PorterStemmer"
   ]
  },
  {
   "cell_type": "code",
   "execution_count": 18,
   "metadata": {},
   "outputs": [],
   "source": [
    "word_tokens=word_tokenize(sent_tokenize_list[0])"
   ]
  },
  {
   "cell_type": "code",
   "execution_count": 19,
   "metadata": {},
   "outputs": [],
   "source": [
    "porter_stemmer = PorterStemmer()"
   ]
  },
  {
   "cell_type": "code",
   "execution_count": 20,
   "metadata": {},
   "outputs": [
    {
     "data": {
      "text/plain": [
       "['alic',\n",
       " 'wa',\n",
       " 'begin',\n",
       " 'to',\n",
       " 'get',\n",
       " 'veri',\n",
       " 'tire',\n",
       " 'of',\n",
       " 'sit',\n",
       " 'by',\n",
       " 'her',\n",
       " 'sister',\n",
       " 'on',\n",
       " 'the',\n",
       " \"'\",\n",
       " ',',\n",
       " \"'bank\",\n",
       " ',',\n",
       " 'and',\n",
       " 'of',\n",
       " 'have',\n",
       " 'noth',\n",
       " 'to',\n",
       " 'do',\n",
       " '.']"
      ]
     },
     "execution_count": 20,
     "metadata": {},
     "output_type": "execute_result"
    }
   ],
   "source": [
    "[porter_stemmer.stem(test) for test in word_tokens]"
   ]
  },
  {
   "cell_type": "code",
   "execution_count": 21,
   "metadata": {},
   "outputs": [],
   "source": [
    "from nltk.stem.lancaster import LancasterStemmer"
   ]
  },
  {
   "cell_type": "code",
   "execution_count": 22,
   "metadata": {},
   "outputs": [],
   "source": [
    " lancaster_stemmer = LancasterStemmer()"
   ]
  },
  {
   "cell_type": "code",
   "execution_count": 23,
   "metadata": {},
   "outputs": [
    {
     "data": {
      "text/plain": [
       "['al',\n",
       " 'was',\n",
       " 'begin',\n",
       " 'to',\n",
       " 'get',\n",
       " 'very',\n",
       " 'tir',\n",
       " 'of',\n",
       " 'sit',\n",
       " 'by',\n",
       " 'her',\n",
       " 'sist',\n",
       " 'on',\n",
       " 'the',\n",
       " \"'\",\n",
       " ',',\n",
       " \"'bank\",\n",
       " ',',\n",
       " 'and',\n",
       " 'of',\n",
       " 'hav',\n",
       " 'noth',\n",
       " 'to',\n",
       " 'do',\n",
       " '.']"
      ]
     },
     "execution_count": 23,
     "metadata": {},
     "output_type": "execute_result"
    }
   ],
   "source": [
    "[lancaster_stemmer.stem(test) for test in word_tokens]"
   ]
  },
  {
   "cell_type": "code",
   "execution_count": 24,
   "metadata": {},
   "outputs": [],
   "source": [
    "from nltk.stem import SnowballStemmer"
   ]
  },
  {
   "cell_type": "code",
   "execution_count": 25,
   "metadata": {},
   "outputs": [],
   "source": [
    "snowball_stemmer = SnowballStemmer(\"english\")"
   ]
  },
  {
   "cell_type": "code",
   "execution_count": 26,
   "metadata": {},
   "outputs": [
    {
     "data": {
      "text/plain": [
       "['alic',\n",
       " 'was',\n",
       " 'begin',\n",
       " 'to',\n",
       " 'get',\n",
       " 'veri',\n",
       " 'tire',\n",
       " 'of',\n",
       " 'sit',\n",
       " 'by',\n",
       " 'her',\n",
       " 'sister',\n",
       " 'on',\n",
       " 'the',\n",
       " \"'\",\n",
       " ',',\n",
       " 'bank',\n",
       " ',',\n",
       " 'and',\n",
       " 'of',\n",
       " 'have',\n",
       " 'noth',\n",
       " 'to',\n",
       " 'do',\n",
       " '.']"
      ]
     },
     "execution_count": 26,
     "metadata": {},
     "output_type": "execute_result"
    }
   ],
   "source": [
    "[snowball_stemmer.stem(test) for test in word_tokens]"
   ]
  },
  {
   "cell_type": "code",
   "execution_count": 27,
   "metadata": {},
   "outputs": [],
   "source": [
    "from nltk.stem import WordNetLemmatizer"
   ]
  },
  {
   "cell_type": "code",
   "execution_count": 28,
   "metadata": {},
   "outputs": [],
   "source": [
    "wordnet_lemmatizer = WordNetLemmatizer()"
   ]
  },
  {
   "cell_type": "code",
   "execution_count": 31,
   "metadata": {},
   "outputs": [
    {
     "name": "stderr",
     "output_type": "stream",
     "text": [
      "[nltk_data] Downloading package wordnet to\n",
      "[nltk_data]     C:\\Users\\emman\\AppData\\Roaming\\nltk_data...\n"
     ]
    },
    {
     "data": {
      "text/plain": [
       "True"
      ]
     },
     "execution_count": 31,
     "metadata": {},
     "output_type": "execute_result"
    }
   ],
   "source": [
    " import nltk\n",
    "nltk.download('wordnet')"
   ]
  },
  {
   "cell_type": "code",
   "execution_count": 32,
   "metadata": {},
   "outputs": [
    {
     "data": {
      "text/plain": [
       "['Alice',\n",
       " 'wa',\n",
       " 'beginning',\n",
       " 'to',\n",
       " 'get',\n",
       " 'very',\n",
       " 'tired',\n",
       " 'of',\n",
       " 'sitting',\n",
       " 'by',\n",
       " 'her',\n",
       " 'sister',\n",
       " 'on',\n",
       " 'the',\n",
       " \"'\",\n",
       " ',',\n",
       " \"'bank\",\n",
       " ',',\n",
       " 'and',\n",
       " 'of',\n",
       " 'having',\n",
       " 'nothing',\n",
       " 'to',\n",
       " 'do',\n",
       " '.']"
      ]
     },
     "execution_count": 32,
     "metadata": {},
     "output_type": "execute_result"
    }
   ],
   "source": [
    "[wordnet_lemmatizer.lemmatize(test) for test in word_tokens]"
   ]
  },
  {
   "cell_type": "code",
   "execution_count": 33,
   "metadata": {},
   "outputs": [],
   "source": [
    "from pywsd.utils import lemmatize_sentence"
   ]
  },
  {
   "cell_type": "code",
   "execution_count": 38,
   "metadata": {},
   "outputs": [
    {
     "name": "stderr",
     "output_type": "stream",
     "text": [
      "[nltk_data] Downloading package averaged_perceptron_tagger_eng to\n",
      "[nltk_data]     C:\\Users\\emman\\AppData\\Roaming\\nltk_data...\n",
      "[nltk_data]   Unzipping taggers\\averaged_perceptron_tagger_eng.zip.\n"
     ]
    },
    {
     "data": {
      "text/plain": [
       "True"
      ]
     },
     "execution_count": 38,
     "metadata": {},
     "output_type": "execute_result"
    }
   ],
   "source": [
    "import nltk\n",
    "nltk.download('averaged_perceptron_tagger_eng')"
   ]
  },
  {
   "cell_type": "code",
   "execution_count": 39,
   "metadata": {},
   "outputs": [
    {
     "data": {
      "text/plain": [
       "['mary', 'leave', 'the', 'room']"
      ]
     },
     "execution_count": 39,
     "metadata": {},
     "output_type": "execute_result"
    }
   ],
   "source": [
    "lemmatize_sentence(\"Mary leaves the room\")"
   ]
  },
  {
   "cell_type": "code",
   "execution_count": 40,
   "metadata": {},
   "outputs": [
    {
     "data": {
      "text/plain": [
       "['dew', 'drop', 'fall', 'from', 'the', 'leaf']"
      ]
     },
     "execution_count": 40,
     "metadata": {},
     "output_type": "execute_result"
    }
   ],
   "source": [
    "lemmatize_sentence('Dew drops fall from the leaves')"
   ]
  }
 ],
 "metadata": {
  "kernelspec": {
   "display_name": "Python 3 (ipykernel)",
   "language": "python",
   "name": "python3"
  },
  "language_info": {
   "codemirror_mode": {
    "name": "ipython",
    "version": 3
   },
   "file_extension": ".py",
   "mimetype": "text/x-python",
   "name": "python",
   "nbconvert_exporter": "python",
   "pygments_lexer": "ipython3",
   "version": "3.12.7"
  }
 },
 "nbformat": 4,
 "nbformat_minor": 4
}
